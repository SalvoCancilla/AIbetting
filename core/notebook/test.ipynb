{
 "cells": [
  {
   "cell_type": "code",
   "execution_count": 1,
   "metadata": {},
   "outputs": [],
   "source": [
    "from dotenv import load_dotenv\n",
    "import os\n",
    "import pandas as pd\n",
    "import sqlite3\n",
    "import requests\n",
    "import json\n",
    "from pandas import json_normalize\n",
    "import pandas as pd\n",
    "\n",
    "# Load env. variables from .env file\n",
    "load_dotenv()\n",
    "api_key = os.getenv(\"RAPIDAPI_KEY\")\n",
    "api_host = os.getenv(\"RAPIDAPI_HOST\")\n",
    "db_path = os.getenv(\"db_path\")\n",
    "json_path = os.getenv(\"json_path\")"
   ]
  },
  {
   "cell_type": "code",
   "execution_count": 5,
   "metadata": {},
   "outputs": [
    {
     "name": "stdout",
     "output_type": "stream",
     "text": [
      "{'get': 'fixtures/statistics', 'parameters': {'fixture': '157216'}, 'errors': [], 'results': 2, 'paging': {'current': 1, 'total': 1}, 'response': [{'team': {'id': 51, 'name': 'Brighton', 'logo': 'https://media.api-sports.io/football/teams/51.png'}, 'statistics': [{'type': 'Shots on Goal', 'value': 5}, {'type': 'Shots off Goal', 'value': 4}, {'type': 'Total Shots', 'value': 16}, {'type': 'Blocked Shots', 'value': 7}, {'type': 'Shots insidebox', 'value': 11}, {'type': 'Shots outsidebox', 'value': 5}, {'type': 'Fouls', 'value': 8}, {'type': 'Corner Kicks', 'value': 5}, {'type': 'Offsides', 'value': 0}, {'type': 'Ball Possession', 'value': '47%'}, {'type': 'Yellow Cards', 'value': 2}, {'type': 'Red Cards', 'value': None}, {'type': 'Goalkeeper Saves', 'value': 3}, {'type': 'Total passes', 'value': 484}, {'type': 'Passes accurate', 'value': 377}, {'type': 'Passes %', 'value': '78%'}]}, {'team': {'id': 49, 'name': 'Chelsea', 'logo': 'https://media.api-sports.io/football/teams/49.png'}, 'statistics': [{'type': 'Shots on Goal', 'value': 5}, {'type': 'Shots off Goal', 'value': 4}, {'type': 'Total Shots', 'value': 16}, {'type': 'Blocked Shots', 'value': 7}, {'type': 'Shots insidebox', 'value': 12}, {'type': 'Shots outsidebox', 'value': 4}, {'type': 'Fouls', 'value': 15}, {'type': 'Corner Kicks', 'value': 3}, {'type': 'Offsides', 'value': 3}, {'type': 'Ball Possession', 'value': '53%'}, {'type': 'Yellow Cards', 'value': 3}, {'type': 'Red Cards', 'value': None}, {'type': 'Goalkeeper Saves', 'value': 4}, {'type': 'Total passes', 'value': 537}, {'type': 'Passes accurate', 'value': 436}, {'type': 'Passes %', 'value': '81%'}]}]}\n"
     ]
    }
   ],
   "source": [
    "# Load JSON file from data/json_files/season\n",
    "with open(\"C:/Users/salvo/Desktop/Progetti/AIBetting/core/data/json_files/match_statistics.json\") as json_file:\n",
    "    data = json.load(json_file)\n",
    "    print(data)"
   ]
  },
  {
   "cell_type": "code",
   "execution_count": 6,
   "metadata": {},
   "outputs": [
    {
     "data": {
      "text/html": [
       "<div>\n",
       "<style scoped>\n",
       "    .dataframe tbody tr th:only-of-type {\n",
       "        vertical-align: middle;\n",
       "    }\n",
       "\n",
       "    .dataframe tbody tr th {\n",
       "        vertical-align: top;\n",
       "    }\n",
       "\n",
       "    .dataframe thead th {\n",
       "        text-align: right;\n",
       "    }\n",
       "</style>\n",
       "<table border=\"1\" class=\"dataframe\">\n",
       "  <thead>\n",
       "    <tr style=\"text-align: right;\">\n",
       "      <th></th>\n",
       "      <th>fixture</th>\n",
       "    </tr>\n",
       "  </thead>\n",
       "  <tbody>\n",
       "    <tr>\n",
       "      <th>0</th>\n",
       "      <td>157216</td>\n",
       "    </tr>\n",
       "  </tbody>\n",
       "</table>\n",
       "</div>"
      ],
      "text/plain": [
       "  fixture\n",
       "0  157216"
      ]
     },
     "execution_count": 6,
     "metadata": {},
     "output_type": "execute_result"
    }
   ],
   "source": [
    "# Normalizza i dati dei giocatori\n",
    "df_team = pd.json_normalize(data['parameters'], sep='_')\n",
    "df_team.head()\n"
   ]
  },
  {
   "cell_type": "code",
   "execution_count": 8,
   "metadata": {},
   "outputs": [
    {
     "data": {
      "text/html": [
       "<div>\n",
       "<style scoped>\n",
       "    .dataframe tbody tr th:only-of-type {\n",
       "        vertical-align: middle;\n",
       "    }\n",
       "\n",
       "    .dataframe tbody tr th {\n",
       "        vertical-align: top;\n",
       "    }\n",
       "\n",
       "    .dataframe thead th {\n",
       "        text-align: right;\n",
       "    }\n",
       "</style>\n",
       "<table border=\"1\" class=\"dataframe\">\n",
       "  <thead>\n",
       "    <tr style=\"text-align: right;\">\n",
       "      <th></th>\n",
       "      <th>statistics</th>\n",
       "      <th>team_id</th>\n",
       "      <th>team_name</th>\n",
       "      <th>team_logo</th>\n",
       "    </tr>\n",
       "  </thead>\n",
       "  <tbody>\n",
       "    <tr>\n",
       "      <th>0</th>\n",
       "      <td>[{'type': 'Shots on Goal', 'value': 5}, {'type...</td>\n",
       "      <td>51</td>\n",
       "      <td>Brighton</td>\n",
       "      <td>https://media.api-sports.io/football/teams/51.png</td>\n",
       "    </tr>\n",
       "  </tbody>\n",
       "</table>\n",
       "</div>"
      ],
      "text/plain": [
       "                                          statistics  team_id team_name  \\\n",
       "0  [{'type': 'Shots on Goal', 'value': 5}, {'type...       51  Brighton   \n",
       "\n",
       "                                           team_logo  \n",
       "0  https://media.api-sports.io/football/teams/51.png  "
      ]
     },
     "execution_count": 8,
     "metadata": {},
     "output_type": "execute_result"
    }
   ],
   "source": [
    "# Normalizza i dati dei giocatori\n",
    "df_lineups_home = pd.json_normalize(data['response'][0], sep='_')\n",
    "\n",
    "df_lineups_home.head()\n"
   ]
  },
  {
   "cell_type": "code",
   "execution_count": 11,
   "metadata": {},
   "outputs": [
    {
     "data": {
      "text/html": [
       "<div>\n",
       "<style scoped>\n",
       "    .dataframe tbody tr th:only-of-type {\n",
       "        vertical-align: middle;\n",
       "    }\n",
       "\n",
       "    .dataframe tbody tr th {\n",
       "        vertical-align: top;\n",
       "    }\n",
       "\n",
       "    .dataframe thead th {\n",
       "        text-align: right;\n",
       "    }\n",
       "</style>\n",
       "<table border=\"1\" class=\"dataframe\">\n",
       "  <thead>\n",
       "    <tr style=\"text-align: right;\">\n",
       "      <th></th>\n",
       "      <th>statistics</th>\n",
       "      <th>team_id</th>\n",
       "      <th>team_name</th>\n",
       "      <th>team_logo</th>\n",
       "    </tr>\n",
       "  </thead>\n",
       "  <tbody>\n",
       "    <tr>\n",
       "      <th>0</th>\n",
       "      <td>[{'type': 'Shots on Goal', 'value': 5}, {'type...</td>\n",
       "      <td>49</td>\n",
       "      <td>Chelsea</td>\n",
       "      <td>https://media.api-sports.io/football/teams/49.png</td>\n",
       "    </tr>\n",
       "  </tbody>\n",
       "</table>\n",
       "</div>"
      ],
      "text/plain": [
       "                                          statistics  team_id team_name  \\\n",
       "0  [{'type': 'Shots on Goal', 'value': 5}, {'type...       49   Chelsea   \n",
       "\n",
       "                                           team_logo  \n",
       "0  https://media.api-sports.io/football/teams/49.png  "
      ]
     },
     "execution_count": 11,
     "metadata": {},
     "output_type": "execute_result"
    }
   ],
   "source": [
    "# Normalizza i dati dei giocatori\n",
    "df_lineups_home = pd.json_normalize(data['response'][1], sep='_')\n",
    "\n",
    "df_lineups_home.head()"
   ]
  },
  {
   "cell_type": "code",
   "execution_count": 5,
   "metadata": {},
   "outputs": [
    {
     "data": {
      "text/html": [
       "<div>\n",
       "<style scoped>\n",
       "    .dataframe tbody tr th:only-of-type {\n",
       "        vertical-align: middle;\n",
       "    }\n",
       "\n",
       "    .dataframe tbody tr th {\n",
       "        vertical-align: top;\n",
       "    }\n",
       "\n",
       "    .dataframe thead th {\n",
       "        text-align: right;\n",
       "    }\n",
       "</style>\n",
       "<table border=\"1\" class=\"dataframe\">\n",
       "  <thead>\n",
       "    <tr style=\"text-align: right;\">\n",
       "      <th></th>\n",
       "      <th>0</th>\n",
       "      <th>1</th>\n",
       "      <th>2</th>\n",
       "      <th>3</th>\n",
       "      <th>4</th>\n",
       "      <th>5</th>\n",
       "      <th>6</th>\n",
       "    </tr>\n",
       "  </thead>\n",
       "  <tbody>\n",
       "    <tr>\n",
       "      <th>0</th>\n",
       "      <td>{'player_id': 727, 'player_name': 'R. Nelson',...</td>\n",
       "      <td>{'player_id': 1460, 'player_name': 'B. Saka', ...</td>\n",
       "      <td>{'player_id': 1454, 'player_name': 'M. Guendou...</td>\n",
       "      <td>{'player_id': 1440, 'player_name': 'R. Holding...</td>\n",
       "      <td>{'player_id': 19599, 'player_name': 'E. Martín...</td>\n",
       "      <td>{'player_id': 748, 'player_name': 'Dani Ceball...</td>\n",
       "      <td>{'player_id': 1463, 'player_name': 'J. Willock...</td>\n",
       "    </tr>\n",
       "    <tr>\n",
       "      <th>1</th>\n",
       "      <td>{'player_id': 899, 'player_name': 'Andreas Per...</td>\n",
       "      <td>{'player_id': 897, 'player_name': 'M. Greenwoo...</td>\n",
       "      <td>{'player_id': 901, 'player_name': 'Mata', 'pla...</td>\n",
       "      <td>{'player_id': 884, 'player_name': 'S. Romero',...</td>\n",
       "      <td>{'player_id': 138806, 'player_name': 'B. Willi...</td>\n",
       "      <td>{'player_id': 888, 'player_name': 'P. Jones', ...</td>\n",
       "      <td>{'player_id': 894, 'player_name': 'A. Young', ...</td>\n",
       "    </tr>\n",
       "  </tbody>\n",
       "</table>\n",
       "</div>"
      ],
      "text/plain": [
       "                                                   0  \\\n",
       "0  {'player_id': 727, 'player_name': 'R. Nelson',...   \n",
       "1  {'player_id': 899, 'player_name': 'Andreas Per...   \n",
       "\n",
       "                                                   1  \\\n",
       "0  {'player_id': 1460, 'player_name': 'B. Saka', ...   \n",
       "1  {'player_id': 897, 'player_name': 'M. Greenwoo...   \n",
       "\n",
       "                                                   2  \\\n",
       "0  {'player_id': 1454, 'player_name': 'M. Guendou...   \n",
       "1  {'player_id': 901, 'player_name': 'Mata', 'pla...   \n",
       "\n",
       "                                                   3  \\\n",
       "0  {'player_id': 1440, 'player_name': 'R. Holding...   \n",
       "1  {'player_id': 884, 'player_name': 'S. Romero',...   \n",
       "\n",
       "                                                   4  \\\n",
       "0  {'player_id': 19599, 'player_name': 'E. Martín...   \n",
       "1  {'player_id': 138806, 'player_name': 'B. Willi...   \n",
       "\n",
       "                                                   5  \\\n",
       "0  {'player_id': 748, 'player_name': 'Dani Ceball...   \n",
       "1  {'player_id': 888, 'player_name': 'P. Jones', ...   \n",
       "\n",
       "                                                   6  \n",
       "0  {'player_id': 1463, 'player_name': 'J. Willock...  \n",
       "1  {'player_id': 894, 'player_name': 'A. Young', ...  "
      ]
     },
     "execution_count": 5,
     "metadata": {},
     "output_type": "execute_result"
    }
   ],
   "source": [
    "df2 = pd.json_normalize(df_lineups['substitutes'], sep='_')\n",
    "df2.head()"
   ]
  },
  {
   "cell_type": "code",
   "execution_count": 6,
   "metadata": {},
   "outputs": [
    {
     "data": {
      "text/html": [
       "<div>\n",
       "<style scoped>\n",
       "    .dataframe tbody tr th:only-of-type {\n",
       "        vertical-align: middle;\n",
       "    }\n",
       "\n",
       "    .dataframe tbody tr th {\n",
       "        vertical-align: top;\n",
       "    }\n",
       "\n",
       "    .dataframe thead th {\n",
       "        text-align: right;\n",
       "    }\n",
       "</style>\n",
       "<table border=\"1\" class=\"dataframe\">\n",
       "  <thead>\n",
       "    <tr style=\"text-align: right;\">\n",
       "      <th></th>\n",
       "      <th>0</th>\n",
       "      <th>1</th>\n",
       "      <th>2</th>\n",
       "      <th>3</th>\n",
       "      <th>4</th>\n",
       "      <th>5</th>\n",
       "      <th>6</th>\n",
       "      <th>7</th>\n",
       "      <th>8</th>\n",
       "      <th>9</th>\n",
       "      <th>10</th>\n",
       "    </tr>\n",
       "  </thead>\n",
       "  <tbody>\n",
       "    <tr>\n",
       "      <th>0</th>\n",
       "      <td>{'player_id': 1438, 'player_name': 'B. Leno', ...</td>\n",
       "      <td>{'player_id': 2283, 'player_name': 'David Luiz...</td>\n",
       "      <td>{'player_id': 1450, 'player_name': 'S. Papasta...</td>\n",
       "      <td>{'player_id': 1442, 'player_name': 'S. Kolašin...</td>\n",
       "      <td>{'player_id': 1458, 'player_name': 'M. Özil', ...</td>\n",
       "      <td>{'player_id': 1464, 'player_name': 'G. Xhaka',...</td>\n",
       "      <td>{'player_id': 1456, 'player_name': 'A. Maitlan...</td>\n",
       "      <td>{'player_id': 1462, 'player_name': 'L. Torreir...</td>\n",
       "      <td>{'player_id': 1465, 'player_name': 'P. Aubamey...</td>\n",
       "      <td>{'player_id': 1467, 'player_name': 'A. Lacazet...</td>\n",
       "      <td>{'player_id': 3246, 'player_name': 'N. Pépé', ...</td>\n",
       "    </tr>\n",
       "    <tr>\n",
       "      <th>1</th>\n",
       "      <td>{'player_id': 882, 'player_name': 'David de Ge...</td>\n",
       "      <td>{'player_id': 889, 'player_name': 'V. Lindelöf...</td>\n",
       "      <td>{'player_id': 2935, 'player_name': 'H. Maguire...</td>\n",
       "      <td>{'player_id': 891, 'player_name': 'L. Shaw', '...</td>\n",
       "      <td>{'player_id': 18846, 'player_name': 'A. Wan-Bi...</td>\n",
       "      <td>{'player_id': 902, 'player_name': 'N. Matić', ...</td>\n",
       "      <td>{'player_id': 905, 'player_name': 'Fred', 'pla...</td>\n",
       "      <td>{'player_id': 900, 'player_name': 'J. Lingard'...</td>\n",
       "      <td>{'player_id': 19329, 'player_name': 'D. James'...</td>\n",
       "      <td>{'player_id': 908, 'player_name': 'A. Martial'...</td>\n",
       "      <td>{'player_id': 909, 'player_name': 'M. Rashford...</td>\n",
       "    </tr>\n",
       "  </tbody>\n",
       "</table>\n",
       "</div>"
      ],
      "text/plain": [
       "                                                  0   \\\n",
       "0  {'player_id': 1438, 'player_name': 'B. Leno', ...   \n",
       "1  {'player_id': 882, 'player_name': 'David de Ge...   \n",
       "\n",
       "                                                  1   \\\n",
       "0  {'player_id': 2283, 'player_name': 'David Luiz...   \n",
       "1  {'player_id': 889, 'player_name': 'V. Lindelöf...   \n",
       "\n",
       "                                                  2   \\\n",
       "0  {'player_id': 1450, 'player_name': 'S. Papasta...   \n",
       "1  {'player_id': 2935, 'player_name': 'H. Maguire...   \n",
       "\n",
       "                                                  3   \\\n",
       "0  {'player_id': 1442, 'player_name': 'S. Kolašin...   \n",
       "1  {'player_id': 891, 'player_name': 'L. Shaw', '...   \n",
       "\n",
       "                                                  4   \\\n",
       "0  {'player_id': 1458, 'player_name': 'M. Özil', ...   \n",
       "1  {'player_id': 18846, 'player_name': 'A. Wan-Bi...   \n",
       "\n",
       "                                                  5   \\\n",
       "0  {'player_id': 1464, 'player_name': 'G. Xhaka',...   \n",
       "1  {'player_id': 902, 'player_name': 'N. Matić', ...   \n",
       "\n",
       "                                                  6   \\\n",
       "0  {'player_id': 1456, 'player_name': 'A. Maitlan...   \n",
       "1  {'player_id': 905, 'player_name': 'Fred', 'pla...   \n",
       "\n",
       "                                                  7   \\\n",
       "0  {'player_id': 1462, 'player_name': 'L. Torreir...   \n",
       "1  {'player_id': 900, 'player_name': 'J. Lingard'...   \n",
       "\n",
       "                                                  8   \\\n",
       "0  {'player_id': 1465, 'player_name': 'P. Aubamey...   \n",
       "1  {'player_id': 19329, 'player_name': 'D. James'...   \n",
       "\n",
       "                                                  9   \\\n",
       "0  {'player_id': 1467, 'player_name': 'A. Lacazet...   \n",
       "1  {'player_id': 908, 'player_name': 'A. Martial'...   \n",
       "\n",
       "                                                  10  \n",
       "0  {'player_id': 3246, 'player_name': 'N. Pépé', ...  \n",
       "1  {'player_id': 909, 'player_name': 'M. Rashford...  "
      ]
     },
     "execution_count": 6,
     "metadata": {},
     "output_type": "execute_result"
    }
   ],
   "source": [
    "df3 = pd.json_normalize(df_lineups['startXI'], sep='_')\n",
    "df3.head()"
   ]
  },
  {
   "cell_type": "code",
   "execution_count": null,
   "metadata": {},
   "outputs": [],
   "source": []
  }
 ],
 "metadata": {
  "kernelspec": {
   "display_name": "venv",
   "language": "python",
   "name": "python3"
  },
  "language_info": {
   "codemirror_mode": {
    "name": "ipython",
    "version": 3
   },
   "file_extension": ".py",
   "mimetype": "text/x-python",
   "name": "python",
   "nbconvert_exporter": "python",
   "pygments_lexer": "ipython3",
   "version": "3.11.7"
  }
 },
 "nbformat": 4,
 "nbformat_minor": 2
}
