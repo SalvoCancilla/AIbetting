{
 "cells": [
  {
   "cell_type": "code",
   "execution_count": 2,
   "metadata": {},
   "outputs": [],
   "source": [
    "from dotenv import load_dotenv\n",
    "import os\n",
    "import pandas as pd\n",
    "import sqlite3\n",
    "import requests\n",
    "import json\n",
    "from pandas import json_normalize\n",
    "import pandas as pd\n",
    "\n",
    "# Load env. variables from .env file\n",
    "load_dotenv()\n",
    "api_key = os.getenv(\"RAPIDAPI_KEY\")\n",
    "api_host = os.getenv(\"RAPIDAPI_HOST\")\n",
    "db_path = os.getenv(\"db_path\")\n",
    "json_path = os.getenv(\"json_path\")"
   ]
  },
  {
   "cell_type": "code",
   "execution_count": 5,
   "metadata": {},
   "outputs": [
    {
     "name": "stdout",
     "output_type": "stream",
     "text": [
      "{'get': 'venues', 'parameters': {'country': 'Albania'}, 'errors': [], 'results': 61, 'paging': {'current': 1, 'total': 1}, 'response': [{'id': 19194, 'name': 'Kukës Arena', 'address': 'Rruga Stadiumi', 'city': 'Kukës', 'country': 'Albania', 'capacity': 6200, 'surface': 'grass', 'image': 'https://media.api-sports.io/football/venues/19194.png'}, {'id': 2155, 'name': 'Stadiumi Skënderbeu', 'address': 'Rruga Gjiergi Kastrioti', 'city': 'Korçë', 'country': 'Albania', 'capacity': 11000, 'surface': 'grass', 'image': 'https://media.api-sports.io/football/venues/2155.png'}, {'id': 4, 'name': 'Stadiumi Selman Stërmasi', 'address': 'Rruga Muhamet Gjollesha', 'city': 'Tirana', 'country': 'Albania', 'capacity': 12724, 'surface': 'grass', 'image': 'https://media.api-sports.io/football/venues/4.png'}, {'id': 19776, 'name': 'Arena e Demave', 'address': 'Myslym Keta Road, Tufine', 'city': 'Tirana', 'country': 'Albania', 'capacity': 5000, 'surface': 'artificial turf', 'image': 'https://media.api-sports.io/football/venues/19776.png'}, {'id': 18855, 'name': 'Air Albania Stadium', 'address': 'Bulevardi Deshmoret e Kombit', 'city': 'Tirana', 'country': 'Albania', 'capacity': 22000, 'surface': 'grass', 'image': 'https://media.api-sports.io/football/venues/18855.png'}, {'id': 3, 'name': 'Stadiumi Laçi', 'address': 'Pranë Bashkisë', 'city': 'Laç', 'country': 'Albania', 'capacity': 3000, 'surface': 'grass', 'image': 'https://media.api-sports.io/football/venues/3.png'}, {'id': 1, 'name': 'Stadiumi Gjirokastra', 'address': 'Lagja 18 Shtatori', 'city': 'Gjirokastër', 'country': 'Albania', 'capacity': 8400, 'surface': 'grass', 'image': 'https://media.api-sports.io/football/venues/1.png'}, {'id': 2156, 'name': 'Stadiumi Flamurtari', 'address': 'Lagja Pavarësia', 'city': 'Vlorë', 'country': 'Albania', 'capacity': 8800, 'surface': 'grass', 'image': 'https://media.api-sports.io/football/venues/2156.png'}, {'id': 2157, 'name': 'Stadiumi Kamza', 'address': 'Rruga Venecia', 'city': 'Kamëz', 'country': 'Albania', 'capacity': 5500, 'surface': 'grass', 'image': 'https://media.api-sports.io/football/venues/2157.png'}, {'id': 2158, 'name': 'Stadiumi Redi Maloku', 'address': None, 'city': 'Fushë-Krujë', 'country': 'Albania', 'capacity': 3000, 'surface': 'grass', 'image': 'https://media.api-sports.io/football/venues/2158.png'}, {'id': 2159, 'name': 'Stadiumi Niko Dovana', 'address': 'Lagjia 18, Rruga Ahmet Ramzoti', 'city': 'Durrës', 'country': 'Albania', 'capacity': 12040, 'surface': 'grass', 'image': 'https://media.api-sports.io/football/venues/2159.png'}, {'id': 2160, 'name': 'Stadiumi Loni Papuçiu', 'address': 'Rruga R. Aranitasi', 'city': 'Fier', 'country': 'Albania', 'capacity': 6800, 'surface': 'grass', 'image': 'https://media.api-sports.io/football/venues/2160.png'}, {'id': 12390, 'name': 'Stadiumi Luz i Vogël', 'address': 'Luz i Vogël', 'city': 'Luz i Vogël', 'country': 'Albania', 'capacity': 600, 'surface': 'grass', 'image': 'https://media.api-sports.io/football/venues/12390.png'}, {'id': 2162, 'name': 'Stadiumi Besëlidhja', 'address': 'Lagja Besëlidhja 54', 'city': 'Lezhë', 'country': 'Albania', 'capacity': 3500, 'surface': 'grass', 'image': 'https://media.api-sports.io/football/venues/2162.png'}, {'id': 2163, 'name': 'Stadiumi Liri Ballabani', 'address': None, 'city': 'Burreli', 'country': 'Albania', 'capacity': 3000, 'surface': 'grass', 'image': 'https://media.api-sports.io/football/venues/2163.png'}, {'id': 2164, 'name': 'Stadiumi Adush Muça', 'address': 'Stadiumi Adush Muça', 'city': 'Ballsh', 'country': 'Albania', 'capacity': 3360, 'surface': 'grass', 'image': 'https://media.api-sports.io/football/venues/2164.png'}, {'id': 2, 'name': 'Elbasan Arena', 'address': 'Bulevardi Qemal Stafa', 'city': 'Elbasan', 'country': 'Albania', 'capacity': 12800, 'surface': 'grass', 'image': 'https://media.api-sports.io/football/venues/2.png'}, {'id': 12601, 'name': 'Arena Egnatia', 'address': None, 'city': 'Rrogozhinë', 'country': 'Albania', 'capacity': 4000, 'surface': 'grass', 'image': 'https://media.api-sports.io/football/venues/12601.png'}, {'id': 2167, 'name': 'Stadiumi Tofik Jashari', 'address': None, 'city': 'Shijak', 'country': 'Albania', 'capacity': 4000, 'surface': 'grass', 'image': 'https://media.api-sports.io/football/venues/2167.png'}, {'id': 2168, 'name': 'Stadiumi Korabi', 'address': None, 'city': 'Peshkopi', 'country': 'Albania', 'capacity': 3000, 'surface': 'grass', 'image': 'https://media.api-sports.io/football/venues/2168.png'}, {'id': 2169, 'name': 'Stadiumi Roza Haxhiu', 'address': 'Rruga Nexhat Nepravishta', 'city': 'Lushnjë', 'country': 'Albania', 'capacity': 8000, 'surface': 'grass', 'image': 'https://media.api-sports.io/football/venues/2169.png'}, {'id': 2170, 'name': 'Fusha Sportive Orikum', 'address': None, 'city': 'Orikum', 'country': 'Albania', 'capacity': 200, 'surface': 'grass', 'image': 'https://media.api-sports.io/football/venues/2170.png'}, {'id': 2171, 'name': 'Stadiumi Gjorgji Kyçyku', 'address': None, 'city': 'Pogradec', 'country': 'Albania', 'capacity': 5000, 'surface': 'grass', 'image': 'https://media.api-sports.io/football/venues/2171.png'}, {'id': 2172, 'name': 'Stadiumi Shënkoll', 'address': 'Lezhë - Shënkoll', 'city': 'Shënkoll', 'country': 'Albania', 'capacity': 500, 'surface': 'grass', 'image': 'https://media.api-sports.io/football/venues/2172.png'}, {'id': 2173, 'name': 'Stadiumi Tomori', 'address': None, 'city': 'Berat', 'country': 'Albania', 'capacity': 12000, 'surface': 'grass', 'image': 'https://media.api-sports.io/football/venues/2173.png'}, {'id': 2174, 'name': 'Stadiumi Nexhip Trungu', 'address': None, 'city': 'Cërrik', 'country': 'Albania', 'capacity': 6600, 'surface': 'grass', 'image': 'https://media.api-sports.io/football/venues/2174.png'}, {'id': 2175, 'name': 'Fusha sportive Reshit Rusi', 'address': 'Lagjia Skenderbeg', 'city': 'Shkodër', 'country': 'Albania', 'capacity': 1200, 'surface': 'artificial turf', 'image': 'https://media.api-sports.io/football/venues/2175.png'}, {'id': 1966, 'name': 'Stadiumi Loro Boriçi', 'address': 'Rruga Musa Luli 1', 'city': 'Shkodër', 'country': 'Albania', 'capacity': 16000, 'surface': 'grass', 'image': 'https://media.api-sports.io/football/venues/1966.png'}, {'id': 20286, 'name': 'Stadiumi Vora', 'address': 'Marqinet', 'city': 'Vora', 'country': 'Albania', 'capacity': 1200, 'surface': 'artificial turf', 'image': 'https://media.api-sports.io/football/venues/20286.png'}, {'id': 2620, 'name': 'Stadiumi Bashkim Sulejmani', 'address': None, 'city': 'Kuçovë', 'country': 'Albania', 'capacity': 5000, 'surface': 'grass', 'image': 'https://media.api-sports.io/football/venues/2620.png'}, {'id': 2621, 'name': 'Stadiumi Shkumbini', 'address': 'Bulevardi Mustafa Gjinishi', 'city': 'Peqin', 'country': 'Albania', 'capacity': 4000, 'surface': 'grass', 'image': 'https://media.api-sports.io/football/venues/2621.png'}, {'id': 2622, 'name': 'Stadiumi Ismail Xhemali', 'address': None, 'city': 'Pukë', 'country': 'Albania', 'capacity': 1950, 'surface': 'grass', 'image': 'https://media.api-sports.io/football/venues/2622.png'}, {'id': 2623, 'name': 'Stadiumi Mamurrasi', 'address': None, 'city': 'Mamurrasi', 'country': 'Albania', 'capacity': 1000, 'surface': 'grass', 'image': 'https://media.api-sports.io/football/venues/2623.png'}, {'id': 2624, 'name': 'Stadiumi Sopoti', 'address': None, 'city': 'Librazhd', 'country': 'Albania', 'capacity': 3000, 'surface': 'grass', 'image': 'https://media.api-sports.io/football/venues/2624.png'}, {'id': 3521, 'name': 'Stadiumi Andon Lapa', 'address': None, 'city': 'Sarandë', 'country': 'Albania', 'capacity': 5000, 'surface': 'grass', 'image': 'https://media.api-sports.io/football/venues/3521.png'}, {'id': 5450, 'name': 'Fusha Sportive Bilisht', 'address': None, 'city': 'Bilisht', 'country': 'Albania', 'capacity': 3000, 'surface': 'grass', 'image': 'https://media.api-sports.io/football/venues/5450.png'}, {'id': 7334, 'name': 'Stadiumi Alush Noga', 'address': None, 'city': 'Patos', 'country': 'Albania', 'capacity': 5000, 'surface': 'grass', 'image': 'https://media.api-sports.io/football/venues/7334.png'}, {'id': 7335, 'name': 'Stadiumi Petro Ruci', 'address': None, 'city': 'Himarë', 'country': 'Albania', 'capacity': 2000, 'surface': 'grass', 'image': 'https://media.api-sports.io/football/venues/7335.png'}, {'id': 7336, 'name': 'Fusha Sportive Gramshi', 'address': None, 'city': 'Gramsh', 'country': 'Albania', 'capacity': 4000, 'surface': 'grass', 'image': 'https://media.api-sports.io/football/venues/7336.png'}, {'id': 7337, 'name': 'Stadiumi Gramozi', 'address': None, 'city': 'Ersekë', 'country': 'Albania', 'capacity': 4000, 'surface': 'grass', 'image': 'https://media.api-sports.io/football/venues/7337.png'}, {'id': 7338, 'name': 'Fusha Sportive Skrapar', 'address': None, 'city': 'Çorovodë', 'country': 'Albania', 'capacity': 1500, 'surface': 'grass', 'image': 'https://media.api-sports.io/football/venues/7338.png'}, {'id': 7339, 'name': 'Stadiumi Flamurtari', 'address': None, 'city': None, 'country': 'Albania', 'capacity': 8200, 'surface': 'grass', 'image': 'https://media.api-sports.io/football/venues/7339.png'}, {'id': 2165, 'name': 'Kompleksi Internacional', 'address': 'SH56', 'city': 'Pezë Helmës', 'country': 'Albania', 'capacity': 300, 'surface': 'artificial turf', 'image': 'https://media.api-sports.io/football/venues/2165.png'}, {'id': 7347, 'name': 'Kompleksi Sportiv i Klubit Olimpik', 'address': 'Kashar', 'city': 'Tiranë', 'country': 'Albania', 'capacity': 1500, 'surface': 'artificial turf', 'image': 'https://media.api-sports.io/football/venues/7347.png'}, {'id': 7348, 'name': 'Stadiumi Zeqir Ymeri', 'address': None, 'city': 'Kukës', 'country': 'Albania', 'capacity': 5400, 'surface': 'artificial turf', 'image': 'https://media.api-sports.io/football/venues/7348.png'}, {'id': 7350, 'name': 'Kompleksi Stërvitor i Ekipeve Kombëtare', 'address': 'Rruga Montreal', 'city': 'Kamëz', 'country': 'Albania', 'capacity': 500, 'surface': 'artificial turf', 'image': 'https://media.api-sports.io/football/venues/7350.png'}, {'id': 7351, 'name': 'Qendra stërvitore Skënder Halili', 'address': None, 'city': 'Tirana', 'country': 'Albania', 'capacity': 1000, 'surface': 'grass', 'image': 'https://media.api-sports.io/football/venues/7351.png'}, {'id': 7352, 'name': 'Fusha Sportive Delvinë', 'address': None, 'city': 'Delvinë', 'country': 'Albania', 'capacity': 2000, 'surface': 'grass', 'image': 'https://media.api-sports.io/football/venues/7352.png'}, {'id': 7353, 'name': 'Stadiumi Demir Allamani', 'address': None, 'city': 'Këlcyrë', 'country': 'Albania', 'capacity': 1000, 'surface': 'grass', 'image': 'https://media.api-sports.io/football/venues/7353.png'}, {'id': 20287, 'name': 'Aneksi i Stadiumit Skenderbeu Korçe', 'address': 'Rruga Kristaq Papargjiri', 'city': 'Korçë', 'country': 'Albania', 'capacity': 1000, 'surface': 'artificial turf', 'image': 'https://media.api-sports.io/football/venues/20287.png'}, {'id': 7355, 'name': 'Stadiumi Karafil Çaushi', 'address': None, 'city': 'Memaliaj', 'country': 'Albania', 'capacity': 1000, 'surface': 'grass', 'image': 'https://media.api-sports.io/football/venues/7355.png'}, {'id': 7356, 'name': 'Stadiumi Durim Qypi', 'address': None, 'city': 'Përmet', 'country': 'Albania', 'capacity': 4000, 'surface': 'grass', 'image': 'https://media.api-sports.io/football/venues/7356.png'}, {'id': 7357, 'name': 'Stadiumi Sabaudin Shehu', 'address': None, 'city': 'Tepelenë', 'country': 'Albania', 'capacity': 2000, 'surface': 'grass', 'image': 'https://media.api-sports.io/football/venues/7357.png'}, {'id': 7358, 'name': 'Stadiumi Domosdova', 'address': None, 'city': 'Përrenjas', 'country': 'Albania', 'capacity': 1000, 'surface': 'grass', 'image': 'https://media.api-sports.io/football/venues/7358.png'}, {'id': 7446, 'name': 'Stadiumi Sukthi i Ri', 'address': None, 'city': 'Sukthi i Ri', 'country': 'Albania', 'capacity': 1000, 'surface': 'grass', 'image': 'https://media.api-sports.io/football/venues/7446.png'}, {'id': 7447, 'name': 'Stadiumi Niko Dovana', 'address': 'Rruga A. Goga', 'city': 'Durrës', 'country': 'Albania', 'capacity': 12040, 'surface': 'grass', 'image': 'https://media.api-sports.io/football/venues/7447.png'}, {'id': 10649, 'name': 'Stadiumi Mirdita', 'address': 'Rruga Vincenco D&apos;Paoli', 'city': 'Rrëshen', 'country': 'Albania', 'capacity': 1000, 'surface': 'grass', 'image': 'https://media.api-sports.io/football/venues/10649.png'}, {'id': 10650, 'name': 'Stadiumi Selenicë', 'address': None, 'city': 'Selenicë', 'country': 'Albania', 'capacity': 4000, 'surface': 'grass', 'image': 'https://media.api-sports.io/football/venues/10650.png'}, {'id': 20288, 'name': 'Stadiumi Tropojë', 'address': 'Rruga Sylejman Vokshi', 'city': 'Bajram Curri', 'country': 'Albania', 'capacity': 3000, 'surface': 'grass', 'image': 'https://media.api-sports.io/football/venues/20288.png'}, {'id': 12391, 'name': 'Kompleksi Sportiv Labëria', 'address': None, 'city': 'Nartë', 'country': 'Albania', 'capacity': 300, 'surface': 'artificial turf', 'image': 'https://media.api-sports.io/football/venues/12391.png'}, {'id': 5796, 'name': 'Stadiumi Kombëtar Qemal Stafa', 'address': 'Bulevardi Deshmoret e Kombit', 'city': 'Tirana', 'country': 'Albania', 'capacity': 19700, 'surface': 'grass', 'image': 'https://media.api-sports.io/football/venues/5796.png'}]}\n"
     ]
    }
   ],
   "source": [
    "# Load JSON file from data/json_files/season\n",
    "with open(\"C:/Users/salvo/Desktop/Progetti/AIBetting/core/data/json_files/venues_info.json\") as json_file:\n",
    "    data = json.load(json_file)\n",
    "    print(data)"
   ]
  },
  {
   "cell_type": "code",
   "execution_count": 6,
   "metadata": {},
   "outputs": [
    {
     "data": {
      "text/html": [
       "<div>\n",
       "<style scoped>\n",
       "    .dataframe tbody tr th:only-of-type {\n",
       "        vertical-align: middle;\n",
       "    }\n",
       "\n",
       "    .dataframe tbody tr th {\n",
       "        vertical-align: top;\n",
       "    }\n",
       "\n",
       "    .dataframe thead th {\n",
       "        text-align: right;\n",
       "    }\n",
       "</style>\n",
       "<table border=\"1\" class=\"dataframe\">\n",
       "  <thead>\n",
       "    <tr style=\"text-align: right;\">\n",
       "      <th></th>\n",
       "      <th>id</th>\n",
       "      <th>name</th>\n",
       "      <th>address</th>\n",
       "      <th>city</th>\n",
       "      <th>country</th>\n",
       "      <th>capacity</th>\n",
       "      <th>surface</th>\n",
       "      <th>image</th>\n",
       "    </tr>\n",
       "  </thead>\n",
       "  <tbody>\n",
       "    <tr>\n",
       "      <th>0</th>\n",
       "      <td>19194</td>\n",
       "      <td>Kukës Arena</td>\n",
       "      <td>Rruga Stadiumi</td>\n",
       "      <td>Kukës</td>\n",
       "      <td>Albania</td>\n",
       "      <td>6200</td>\n",
       "      <td>grass</td>\n",
       "      <td>https://media.api-sports.io/football/venues/19...</td>\n",
       "    </tr>\n",
       "    <tr>\n",
       "      <th>1</th>\n",
       "      <td>2155</td>\n",
       "      <td>Stadiumi Skënderbeu</td>\n",
       "      <td>Rruga Gjiergi Kastrioti</td>\n",
       "      <td>Korçë</td>\n",
       "      <td>Albania</td>\n",
       "      <td>11000</td>\n",
       "      <td>grass</td>\n",
       "      <td>https://media.api-sports.io/football/venues/21...</td>\n",
       "    </tr>\n",
       "    <tr>\n",
       "      <th>2</th>\n",
       "      <td>4</td>\n",
       "      <td>Stadiumi Selman Stërmasi</td>\n",
       "      <td>Rruga Muhamet Gjollesha</td>\n",
       "      <td>Tirana</td>\n",
       "      <td>Albania</td>\n",
       "      <td>12724</td>\n",
       "      <td>grass</td>\n",
       "      <td>https://media.api-sports.io/football/venues/4.png</td>\n",
       "    </tr>\n",
       "    <tr>\n",
       "      <th>3</th>\n",
       "      <td>19776</td>\n",
       "      <td>Arena e Demave</td>\n",
       "      <td>Myslym Keta Road, Tufine</td>\n",
       "      <td>Tirana</td>\n",
       "      <td>Albania</td>\n",
       "      <td>5000</td>\n",
       "      <td>artificial turf</td>\n",
       "      <td>https://media.api-sports.io/football/venues/19...</td>\n",
       "    </tr>\n",
       "    <tr>\n",
       "      <th>4</th>\n",
       "      <td>18855</td>\n",
       "      <td>Air Albania Stadium</td>\n",
       "      <td>Bulevardi Deshmoret e Kombit</td>\n",
       "      <td>Tirana</td>\n",
       "      <td>Albania</td>\n",
       "      <td>22000</td>\n",
       "      <td>grass</td>\n",
       "      <td>https://media.api-sports.io/football/venues/18...</td>\n",
       "    </tr>\n",
       "  </tbody>\n",
       "</table>\n",
       "</div>"
      ],
      "text/plain": [
       "      id                      name                       address    city  \\\n",
       "0  19194               Kukës Arena                Rruga Stadiumi   Kukës   \n",
       "1   2155       Stadiumi Skënderbeu       Rruga Gjiergi Kastrioti   Korçë   \n",
       "2      4  Stadiumi Selman Stërmasi       Rruga Muhamet Gjollesha  Tirana   \n",
       "3  19776            Arena e Demave      Myslym Keta Road, Tufine  Tirana   \n",
       "4  18855       Air Albania Stadium  Bulevardi Deshmoret e Kombit  Tirana   \n",
       "\n",
       "   country  capacity          surface  \\\n",
       "0  Albania      6200            grass   \n",
       "1  Albania     11000            grass   \n",
       "2  Albania     12724            grass   \n",
       "3  Albania      5000  artificial turf   \n",
       "4  Albania     22000            grass   \n",
       "\n",
       "                                               image  \n",
       "0  https://media.api-sports.io/football/venues/19...  \n",
       "1  https://media.api-sports.io/football/venues/21...  \n",
       "2  https://media.api-sports.io/football/venues/4.png  \n",
       "3  https://media.api-sports.io/football/venues/19...  \n",
       "4  https://media.api-sports.io/football/venues/18...  "
      ]
     },
     "execution_count": 6,
     "metadata": {},
     "output_type": "execute_result"
    }
   ],
   "source": [
    "df1 = pd.json_normalize(data, 'response', sep='_') # Extract the response data\n",
    "df1.head()"
   ]
  },
  {
   "cell_type": "code",
   "execution_count": 23,
   "metadata": {},
   "outputs": [
    {
     "data": {
      "text/html": [
       "<div>\n",
       "<style scoped>\n",
       "    .dataframe tbody tr th:only-of-type {\n",
       "        vertical-align: middle;\n",
       "    }\n",
       "\n",
       "    .dataframe tbody tr th {\n",
       "        vertical-align: top;\n",
       "    }\n",
       "\n",
       "    .dataframe thead th {\n",
       "        text-align: right;\n",
       "    }\n",
       "</style>\n",
       "<table border=\"1\" class=\"dataframe\">\n",
       "  <thead>\n",
       "    <tr style=\"text-align: right;\">\n",
       "      <th></th>\n",
       "      <th>0</th>\n",
       "      <th>1</th>\n",
       "    </tr>\n",
       "  </thead>\n",
       "  <tbody>\n",
       "    <tr>\n",
       "      <th>0</th>\n",
       "      <td>{'team.id': 577, 'team.name': 'FK Kukesi', 'te...</td>\n",
       "      <td>None</td>\n",
       "    </tr>\n",
       "    <tr>\n",
       "      <th>1</th>\n",
       "      <td>{'team.id': 577, 'team.name': 'FK Kukesi', 'te...</td>\n",
       "      <td>None</td>\n",
       "    </tr>\n",
       "    <tr>\n",
       "      <th>2</th>\n",
       "      <td>{'team.id': 577, 'team.name': 'FK Kukesi', 'te...</td>\n",
       "      <td>None</td>\n",
       "    </tr>\n",
       "    <tr>\n",
       "      <th>3</th>\n",
       "      <td>{'team.id': 577, 'team.name': 'FK Kukesi', 'te...</td>\n",
       "      <td>{'team.id': 577, 'team.name': 'FK Kukesi', 'te...</td>\n",
       "    </tr>\n",
       "    <tr>\n",
       "      <th>4</th>\n",
       "      <td>{'team.id': 577, 'team.name': 'FK Kukesi', 'te...</td>\n",
       "      <td>None</td>\n",
       "    </tr>\n",
       "  </tbody>\n",
       "</table>\n",
       "</div>"
      ],
      "text/plain": [
       "                                                   0  \\\n",
       "0  {'team.id': 577, 'team.name': 'FK Kukesi', 'te...   \n",
       "1  {'team.id': 577, 'team.name': 'FK Kukesi', 'te...   \n",
       "2  {'team.id': 577, 'team.name': 'FK Kukesi', 'te...   \n",
       "3  {'team.id': 577, 'team.name': 'FK Kukesi', 'te...   \n",
       "4  {'team.id': 577, 'team.name': 'FK Kukesi', 'te...   \n",
       "\n",
       "                                                   1  \n",
       "0                                               None  \n",
       "1                                               None  \n",
       "2                                               None  \n",
       "3  {'team.id': 577, 'team.name': 'FK Kukesi', 'te...  \n",
       "4                                               None  "
      ]
     },
     "execution_count": 23,
     "metadata": {},
     "output_type": "execute_result"
    }
   ],
   "source": [
    "df_players_season_stats = pd.json_normalize(df1[\"statistics\"])\n",
    "df_players_season_stats.head()"
   ]
  },
  {
   "cell_type": "code",
   "execution_count": 31,
   "metadata": {},
   "outputs": [
    {
     "ename": "TypeError",
     "evalue": "the JSON object must be str, bytes or bytearray, not dict",
     "output_type": "error",
     "traceback": [
      "\u001b[1;31m---------------------------------------------------------------------------\u001b[0m",
      "\u001b[1;31mTypeError\u001b[0m                                 Traceback (most recent call last)",
      "Cell \u001b[1;32mIn[31], line 2\u001b[0m\n\u001b[0;32m      1\u001b[0m \u001b[38;5;66;03m# Converti la stringa JSON in un dizionario Python\u001b[39;00m\n\u001b[1;32m----> 2\u001b[0m data \u001b[38;5;241m=\u001b[39m \u001b[43mjson\u001b[49m\u001b[38;5;241;43m.\u001b[39;49m\u001b[43mloads\u001b[49m\u001b[43m(\u001b[49m\u001b[43mdata\u001b[49m\u001b[43m)\u001b[49m\n\u001b[0;32m      4\u001b[0m \u001b[38;5;66;03m# Estrai i dati di risposta\u001b[39;00m\n\u001b[0;32m      5\u001b[0m response_data \u001b[38;5;241m=\u001b[39m data[\u001b[38;5;124m'\u001b[39m\u001b[38;5;124mresponse\u001b[39m\u001b[38;5;124m'\u001b[39m][\u001b[38;5;241m0\u001b[39m]\n",
      "File \u001b[1;32m~\\AppData\\Local\\Programs\\Python\\Python311\\Lib\\json\\__init__.py:339\u001b[0m, in \u001b[0;36mloads\u001b[1;34m(s, cls, object_hook, parse_float, parse_int, parse_constant, object_pairs_hook, **kw)\u001b[0m\n\u001b[0;32m    337\u001b[0m \u001b[38;5;28;01melse\u001b[39;00m:\n\u001b[0;32m    338\u001b[0m     \u001b[38;5;28;01mif\u001b[39;00m \u001b[38;5;129;01mnot\u001b[39;00m \u001b[38;5;28misinstance\u001b[39m(s, (\u001b[38;5;28mbytes\u001b[39m, \u001b[38;5;28mbytearray\u001b[39m)):\n\u001b[1;32m--> 339\u001b[0m         \u001b[38;5;28;01mraise\u001b[39;00m \u001b[38;5;167;01mTypeError\u001b[39;00m(\u001b[38;5;124mf\u001b[39m\u001b[38;5;124m'\u001b[39m\u001b[38;5;124mthe JSON object must be str, bytes or bytearray, \u001b[39m\u001b[38;5;124m'\u001b[39m\n\u001b[0;32m    340\u001b[0m                         \u001b[38;5;124mf\u001b[39m\u001b[38;5;124m'\u001b[39m\u001b[38;5;124mnot \u001b[39m\u001b[38;5;132;01m{\u001b[39;00ms\u001b[38;5;241m.\u001b[39m\u001b[38;5;18m__class__\u001b[39m\u001b[38;5;241m.\u001b[39m\u001b[38;5;18m__name__\u001b[39m\u001b[38;5;132;01m}\u001b[39;00m\u001b[38;5;124m'\u001b[39m)\n\u001b[0;32m    341\u001b[0m     s \u001b[38;5;241m=\u001b[39m s\u001b[38;5;241m.\u001b[39mdecode(detect_encoding(s), \u001b[38;5;124m'\u001b[39m\u001b[38;5;124msurrogatepass\u001b[39m\u001b[38;5;124m'\u001b[39m)\n\u001b[0;32m    343\u001b[0m \u001b[38;5;28;01mif\u001b[39;00m (\u001b[38;5;28mcls\u001b[39m \u001b[38;5;129;01mis\u001b[39;00m \u001b[38;5;28;01mNone\u001b[39;00m \u001b[38;5;129;01mand\u001b[39;00m object_hook \u001b[38;5;129;01mis\u001b[39;00m \u001b[38;5;28;01mNone\u001b[39;00m \u001b[38;5;129;01mand\u001b[39;00m\n\u001b[0;32m    344\u001b[0m         parse_int \u001b[38;5;129;01mis\u001b[39;00m \u001b[38;5;28;01mNone\u001b[39;00m \u001b[38;5;129;01mand\u001b[39;00m parse_float \u001b[38;5;129;01mis\u001b[39;00m \u001b[38;5;28;01mNone\u001b[39;00m \u001b[38;5;129;01mand\u001b[39;00m\n\u001b[0;32m    345\u001b[0m         parse_constant \u001b[38;5;129;01mis\u001b[39;00m \u001b[38;5;28;01mNone\u001b[39;00m \u001b[38;5;129;01mand\u001b[39;00m object_pairs_hook \u001b[38;5;129;01mis\u001b[39;00m \u001b[38;5;28;01mNone\u001b[39;00m \u001b[38;5;129;01mand\u001b[39;00m \u001b[38;5;129;01mnot\u001b[39;00m kw):\n",
      "\u001b[1;31mTypeError\u001b[0m: the JSON object must be str, bytes or bytearray, not dict"
     ]
    }
   ],
   "source": [
    "# Converti la stringa JSON in un dizionario Python\n",
    "data = json.loads(data)\n",
    "\n",
    "# Estrai i dati di risposta\n",
    "response_data = data['response'][0]\n",
    "\n",
    "# Normalizza il JSON annidato in un DataFrame\n",
    "df = json_normalize(response_data)\n",
    "\n",
    "# Visualizza il DataFrame\n",
    "df.head()"
   ]
  },
  {
   "cell_type": "code",
   "execution_count": null,
   "metadata": {},
   "outputs": [],
   "source": []
  }
 ],
 "metadata": {
  "kernelspec": {
   "display_name": "venv",
   "language": "python",
   "name": "python3"
  },
  "language_info": {
   "codemirror_mode": {
    "name": "ipython",
    "version": 3
   },
   "file_extension": ".py",
   "mimetype": "text/x-python",
   "name": "python",
   "nbconvert_exporter": "python",
   "pygments_lexer": "ipython3",
   "version": "3.11.7"
  }
 },
 "nbformat": 4,
 "nbformat_minor": 2
}
