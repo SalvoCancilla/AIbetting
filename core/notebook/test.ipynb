{
 "cells": [
  {
   "cell_type": "code",
   "execution_count": 1,
   "metadata": {},
   "outputs": [],
   "source": [
    "from dotenv import load_dotenv\n",
    "import os\n",
    "import pandas as pd\n",
    "import sqlite3\n",
    "import requests\n",
    "import json\n",
    "from pandas import json_normalize\n",
    "import pandas as pd\n",
    "\n",
    "# Load env. variables from .env file\n",
    "load_dotenv()\n",
    "api_key = os.getenv(\"RAPIDAPI_KEY\")\n",
    "api_host = os.getenv(\"RAPIDAPI_HOST\")\n",
    "db_path = os.getenv(\"db_path\")\n",
    "json_path = os.getenv(\"json_path\")"
   ]
  },
  {
   "cell_type": "code",
   "execution_count": 2,
   "metadata": {},
   "outputs": [
    {
     "name": "stdout",
     "output_type": "stream",
     "text": [
      "{'get': 'standings', 'parameters': {'league': '310', 'season': '2020'}, 'errors': [], 'results': 1, 'paging': {'current': 1, 'total': 1}, 'response': [{'league': {'id': 310, 'name': 'Superliga', 'country': 'Albania', 'logo': 'https://media.api-sports.io/football/leagues/310.png', 'flag': 'https://media.api-sports.io/flags/al.svg', 'season': 2020, 'standings': [[{'rank': 1, 'team': {'id': 3320, 'name': 'Teuta Durrës', 'logo': 'https://media.api-sports.io/football/teams/3320.png'}, 'points': 66, 'goalsDiff': 26, 'group': 'Superliga', 'form': 'WDLWW', 'status': 'up', 'description': 'UEFA Champions League Qualifiers', 'all': {'played': 36, 'win': 17, 'draw': 15, 'lose': 4, 'goals': {'for': 42, 'against': 16}}, 'home': {'played': 18, 'win': 7, 'draw': 9, 'lose': 2, 'goals': {'for': 24, 'against': 11}}, 'away': {'played': 18, 'win': 10, 'draw': 6, 'lose': 2, 'goals': {'for': 18, 'against': 5}}, 'update': '2021-05-26T00:00:00+00:00'}, {'rank': 2, 'team': {'id': 3339, 'name': 'Vllaznia Shkodër', 'logo': 'https://media.api-sports.io/football/teams/3339.png'}, 'points': 66, 'goalsDiff': 22, 'group': 'Superliga', 'form': 'WWWWL', 'status': 'up', 'description': 'UEFA Conference League Qualifiers', 'all': {'played': 36, 'win': 19, 'draw': 9, 'lose': 8, 'goals': {'for': 44, 'against': 22}}, 'home': {'played': 18, 'win': 10, 'draw': 4, 'lose': 4, 'goals': {'for': 24, 'against': 14}}, 'away': {'played': 18, 'win': 9, 'draw': 5, 'lose': 4, 'goals': {'for': 20, 'against': 8}}, 'update': '2021-05-26T00:00:00+00:00'}, {'rank': 3, 'team': {'id': 708, 'name': 'Partizani', 'logo': 'https://media.api-sports.io/football/teams/708.png'}, 'points': 65, 'goalsDiff': 30, 'group': 'Superliga', 'form': 'WLWDD', 'status': 'down', 'description': 'UEFA Conference League Qualifiers', 'all': {'played': 36, 'win': 17, 'draw': 14, 'lose': 5, 'goals': {'for': 53, 'against': 23}}, 'home': {'played': 18, 'win': 8, 'draw': 8, 'lose': 2, 'goals': {'for': 24, 'against': 6}}, 'away': {'played': 18, 'win': 9, 'draw': 6, 'lose': 3, 'goals': {'for': 29, 'against': 17}}, 'update': '2021-05-26T00:00:00+00:00'}, {'rank': 4, 'team': {'id': 2256, 'name': 'Laci', 'logo': 'https://media.api-sports.io/football/teams/2256.png'}, 'points': 61, 'goalsDiff': 15, 'group': 'Superliga', 'form': 'LDWDW', 'status': 'down', 'description': None, 'all': {'played': 36, 'win': 16, 'draw': 13, 'lose': 7, 'goals': {'for': 41, 'against': 26}}, 'home': {'played': 18, 'win': 9, 'draw': 7, 'lose': 2, 'goals': {'for': 27, 'against': 14}}, 'away': {'played': 18, 'win': 7, 'draw': 6, 'lose': 5, 'goals': {'for': 14, 'against': 12}}, 'update': '2021-05-26T00:00:00+00:00'}, {'rank': 5, 'team': {'id': 694, 'name': 'Tirana', 'logo': 'https://media.api-sports.io/football/teams/694.png'}, 'points': 58, 'goalsDiff': 15, 'group': 'Superliga', 'form': 'WDLDW', 'status': 'same', 'description': None, 'all': {'played': 36, 'win': 15, 'draw': 13, 'lose': 8, 'goals': {'for': 41, 'against': 26}}, 'home': {'played': 18, 'win': 9, 'draw': 3, 'lose': 6, 'goals': {'for': 23, 'against': 13}}, 'away': {'played': 18, 'win': 6, 'draw': 10, 'lose': 2, 'goals': {'for': 18, 'against': 13}}, 'update': '2021-05-26T00:00:00+00:00'}, {'rank': 6, 'team': {'id': 577, 'name': 'FK Kukesi', 'logo': 'https://media.api-sports.io/football/teams/577.png'}, 'points': 45, 'goalsDiff': -1, 'group': 'Superliga', 'form': 'LLWWW', 'status': 'same', 'description': None, 'all': {'played': 36, 'win': 13, 'draw': 6, 'lose': 17, 'goals': {'for': 47, 'against': 48}}, 'home': {'played': 18, 'win': 6, 'draw': 3, 'lose': 9, 'goals': {'for': 18, 'against': 23}}, 'away': {'played': 18, 'win': 7, 'draw': 3, 'lose': 8, 'goals': {'for': 29, 'against': 25}}, 'update': '2021-05-26T00:00:00+00:00'}, {'rank': 7, 'team': {'id': 605, 'name': 'Skenderbeu Korce', 'logo': 'https://media.api-sports.io/football/teams/605.png'}, 'points': 37, 'goalsDiff': -21, 'group': 'Superliga', 'form': 'LWWDD', 'status': 'same', 'description': None, 'all': {'played': 36, 'win': 9, 'draw': 10, 'lose': 17, 'goals': {'for': 34, 'against': 55}}, 'home': {'played': 18, 'win': 4, 'draw': 6, 'lose': 8, 'goals': {'for': 18, 'against': 27}}, 'away': {'played': 18, 'win': 5, 'draw': 4, 'lose': 9, 'goals': {'for': 16, 'against': 28}}, 'update': '2021-05-26T00:00:00+00:00'}, {'rank': 8, 'team': {'id': 3319, 'name': 'Kastrioti Krujë', 'logo': 'https://media.api-sports.io/football/teams/3319.png'}, 'points': 35, 'goalsDiff': -18, 'group': 'Superliga', 'form': 'WDLLL', 'status': 'same', 'description': 'Relegation Play-off', 'all': {'played': 36, 'win': 8, 'draw': 11, 'lose': 17, 'goals': {'for': 26, 'against': 44}}, 'home': {'played': 18, 'win': 4, 'draw': 6, 'lose': 8, 'goals': {'for': 12, 'against': 23}}, 'away': {'played': 18, 'win': 4, 'draw': 5, 'lose': 9, 'goals': {'for': 14, 'against': 21}}, 'update': '2021-05-26T00:00:00+00:00'}, {'rank': 9, 'team': {'id': 3325, 'name': 'Bylis', 'logo': 'https://media.api-sports.io/football/teams/3325.png'}, 'points': 31, 'goalsDiff': -23, 'group': 'Superliga', 'form': 'LDLLL', 'status': 'same', 'description': 'Relegation', 'all': {'played': 36, 'win': 7, 'draw': 10, 'lose': 19, 'goals': {'for': 28, 'against': 51}}, 'home': {'played': 18, 'win': 5, 'draw': 6, 'lose': 7, 'goals': {'for': 15, 'against': 20}}, 'away': {'played': 18, 'win': 2, 'draw': 4, 'lose': 12, 'goals': {'for': 13, 'against': 31}}, 'update': '2021-05-26T00:00:00+00:00'}, {'rank': 10, 'team': {'id': 3321, 'name': 'Apolonia Fier', 'logo': 'https://media.api-sports.io/football/teams/3321.png'}, 'points': 21, 'goalsDiff': -45, 'group': 'Superliga', 'form': 'LDLLL', 'status': 'same', 'description': 'Relegation', 'all': {'played': 36, 'win': 4, 'draw': 9, 'lose': 23, 'goals': {'for': 22, 'against': 67}}, 'home': {'played': 18, 'win': 4, 'draw': 3, 'lose': 11, 'goals': {'for': 12, 'against': 30}}, 'away': {'played': 18, 'win': 0, 'draw': 6, 'lose': 12, 'goals': {'for': 10, 'against': 37}}, 'update': '2021-05-26T00:00:00+00:00'}]]}}]}\n"
     ]
    }
   ],
   "source": [
    "# Load JSON file from data/json_files/season\n",
    "with open(\"C:/Users/salvo/Desktop/Progetti/AIBetting/core/data/json_files/standings_info.json\") as json_file:\n",
    "    data = json.load(json_file)\n",
    "    print(data)"
   ]
  },
  {
   "cell_type": "code",
   "execution_count": 18,
   "metadata": {},
   "outputs": [
    {
     "data": {
      "text/html": [
       "<div>\n",
       "<style scoped>\n",
       "    .dataframe tbody tr th:only-of-type {\n",
       "        vertical-align: middle;\n",
       "    }\n",
       "\n",
       "    .dataframe tbody tr th {\n",
       "        vertical-align: top;\n",
       "    }\n",
       "\n",
       "    .dataframe thead th {\n",
       "        text-align: right;\n",
       "    }\n",
       "</style>\n",
       "<table border=\"1\" class=\"dataframe\">\n",
       "  <thead>\n",
       "    <tr style=\"text-align: right;\">\n",
       "      <th></th>\n",
       "      <th>league</th>\n",
       "      <th>season</th>\n",
       "    </tr>\n",
       "  </thead>\n",
       "  <tbody>\n",
       "    <tr>\n",
       "      <th>0</th>\n",
       "      <td>310</td>\n",
       "      <td>2020</td>\n",
       "    </tr>\n",
       "  </tbody>\n",
       "</table>\n",
       "</div>"
      ],
      "text/plain": [
       "  league season\n",
       "0    310   2020"
      ]
     },
     "execution_count": 18,
     "metadata": {},
     "output_type": "execute_result"
    }
   ],
   "source": [
    "# Normalizza i dati dei giocatori\n",
    "df_team = pd.json_normalize(data['parameters'], sep='_')\n",
    "df_team.head()\n"
   ]
  },
  {
   "cell_type": "code",
   "execution_count": 19,
   "metadata": {},
   "outputs": [
    {
     "data": {
      "text/html": [
       "<div>\n",
       "<style scoped>\n",
       "    .dataframe tbody tr th:only-of-type {\n",
       "        vertical-align: middle;\n",
       "    }\n",
       "\n",
       "    .dataframe tbody tr th {\n",
       "        vertical-align: top;\n",
       "    }\n",
       "\n",
       "    .dataframe thead th {\n",
       "        text-align: right;\n",
       "    }\n",
       "</style>\n",
       "<table border=\"1\" class=\"dataframe\">\n",
       "  <thead>\n",
       "    <tr style=\"text-align: right;\">\n",
       "      <th></th>\n",
       "      <th>league_id</th>\n",
       "      <th>league_name</th>\n",
       "      <th>league_country</th>\n",
       "      <th>league_logo</th>\n",
       "      <th>league_flag</th>\n",
       "      <th>league_season</th>\n",
       "      <th>league_standings</th>\n",
       "    </tr>\n",
       "  </thead>\n",
       "  <tbody>\n",
       "    <tr>\n",
       "      <th>0</th>\n",
       "      <td>310</td>\n",
       "      <td>Superliga</td>\n",
       "      <td>Albania</td>\n",
       "      <td>https://media.api-sports.io/football/leagues/3...</td>\n",
       "      <td>https://media.api-sports.io/flags/al.svg</td>\n",
       "      <td>2020</td>\n",
       "      <td>[[{'rank': 1, 'team': {'id': 3320, 'name': 'Te...</td>\n",
       "    </tr>\n",
       "  </tbody>\n",
       "</table>\n",
       "</div>"
      ],
      "text/plain": [
       "   league_id league_name league_country  \\\n",
       "0        310   Superliga        Albania   \n",
       "\n",
       "                                         league_logo  \\\n",
       "0  https://media.api-sports.io/football/leagues/3...   \n",
       "\n",
       "                                league_flag  league_season  \\\n",
       "0  https://media.api-sports.io/flags/al.svg           2020   \n",
       "\n",
       "                                    league_standings  \n",
       "0  [[{'rank': 1, 'team': {'id': 3320, 'name': 'Te...  "
      ]
     },
     "execution_count": 19,
     "metadata": {},
     "output_type": "execute_result"
    }
   ],
   "source": [
    "# Normalizza i dati dei giocatori\n",
    "df_lineups_home = pd.json_normalize(data['response'], sep='_')\n",
    "\n",
    "df_lineups_home.head()\n"
   ]
  },
  {
   "cell_type": "code",
   "execution_count": 27,
   "metadata": {},
   "outputs": [
    {
     "ename": "TypeError",
     "evalue": "list indices must be integers or slices, not str",
     "output_type": "error",
     "traceback": [
      "\u001b[1;31m---------------------------------------------------------------------------\u001b[0m",
      "\u001b[1;31mTypeError\u001b[0m                                 Traceback (most recent call last)",
      "Cell \u001b[1;32mIn[27], line 2\u001b[0m\n\u001b[0;32m      1\u001b[0m \u001b[38;5;66;03m# Normalizza i dati dei giocatori\u001b[39;00m\n\u001b[1;32m----> 2\u001b[0m df_lineups_home \u001b[38;5;241m=\u001b[39m pd\u001b[38;5;241m.\u001b[39mjson_normalize(\u001b[43mdata\u001b[49m\u001b[43m[\u001b[49m\u001b[38;5;124;43m'\u001b[39;49m\u001b[38;5;124;43mresponse\u001b[39;49m\u001b[38;5;124;43m'\u001b[39;49m\u001b[43m]\u001b[49m\u001b[43m[\u001b[49m\u001b[38;5;124;43m'\u001b[39;49m\u001b[38;5;124;43mleague\u001b[39;49m\u001b[38;5;124;43m'\u001b[39;49m\u001b[43m]\u001b[49m[\u001b[38;5;124m'\u001b[39m\u001b[38;5;124mstandings\u001b[39m\u001b[38;5;124m'\u001b[39m], sep\u001b[38;5;241m=\u001b[39m\u001b[38;5;124m'\u001b[39m\u001b[38;5;124m_\u001b[39m\u001b[38;5;124m'\u001b[39m)\n\u001b[0;32m      4\u001b[0m df_lineups_home\u001b[38;5;241m.\u001b[39mhead()\n",
      "\u001b[1;31mTypeError\u001b[0m: list indices must be integers or slices, not str"
     ]
    }
   ],
   "source": [
    "# Normalizza i dati dei giocatori\n",
    "df_lineups_home = pd.json_normalize(data['response']['league']['standings'], sep='_')\n",
    "\n",
    "df_lineups_home.head()"
   ]
  },
  {
   "cell_type": "code",
   "execution_count": 5,
   "metadata": {},
   "outputs": [
    {
     "data": {
      "text/html": [
       "<div>\n",
       "<style scoped>\n",
       "    .dataframe tbody tr th:only-of-type {\n",
       "        vertical-align: middle;\n",
       "    }\n",
       "\n",
       "    .dataframe tbody tr th {\n",
       "        vertical-align: top;\n",
       "    }\n",
       "\n",
       "    .dataframe thead th {\n",
       "        text-align: right;\n",
       "    }\n",
       "</style>\n",
       "<table border=\"1\" class=\"dataframe\">\n",
       "  <thead>\n",
       "    <tr style=\"text-align: right;\">\n",
       "      <th></th>\n",
       "      <th>0</th>\n",
       "      <th>1</th>\n",
       "      <th>2</th>\n",
       "      <th>3</th>\n",
       "      <th>4</th>\n",
       "      <th>5</th>\n",
       "      <th>6</th>\n",
       "    </tr>\n",
       "  </thead>\n",
       "  <tbody>\n",
       "    <tr>\n",
       "      <th>0</th>\n",
       "      <td>{'player_id': 727, 'player_name': 'R. Nelson',...</td>\n",
       "      <td>{'player_id': 1460, 'player_name': 'B. Saka', ...</td>\n",
       "      <td>{'player_id': 1454, 'player_name': 'M. Guendou...</td>\n",
       "      <td>{'player_id': 1440, 'player_name': 'R. Holding...</td>\n",
       "      <td>{'player_id': 19599, 'player_name': 'E. Martín...</td>\n",
       "      <td>{'player_id': 748, 'player_name': 'Dani Ceball...</td>\n",
       "      <td>{'player_id': 1463, 'player_name': 'J. Willock...</td>\n",
       "    </tr>\n",
       "    <tr>\n",
       "      <th>1</th>\n",
       "      <td>{'player_id': 899, 'player_name': 'Andreas Per...</td>\n",
       "      <td>{'player_id': 897, 'player_name': 'M. Greenwoo...</td>\n",
       "      <td>{'player_id': 901, 'player_name': 'Mata', 'pla...</td>\n",
       "      <td>{'player_id': 884, 'player_name': 'S. Romero',...</td>\n",
       "      <td>{'player_id': 138806, 'player_name': 'B. Willi...</td>\n",
       "      <td>{'player_id': 888, 'player_name': 'P. Jones', ...</td>\n",
       "      <td>{'player_id': 894, 'player_name': 'A. Young', ...</td>\n",
       "    </tr>\n",
       "  </tbody>\n",
       "</table>\n",
       "</div>"
      ],
      "text/plain": [
       "                                                   0  \\\n",
       "0  {'player_id': 727, 'player_name': 'R. Nelson',...   \n",
       "1  {'player_id': 899, 'player_name': 'Andreas Per...   \n",
       "\n",
       "                                                   1  \\\n",
       "0  {'player_id': 1460, 'player_name': 'B. Saka', ...   \n",
       "1  {'player_id': 897, 'player_name': 'M. Greenwoo...   \n",
       "\n",
       "                                                   2  \\\n",
       "0  {'player_id': 1454, 'player_name': 'M. Guendou...   \n",
       "1  {'player_id': 901, 'player_name': 'Mata', 'pla...   \n",
       "\n",
       "                                                   3  \\\n",
       "0  {'player_id': 1440, 'player_name': 'R. Holding...   \n",
       "1  {'player_id': 884, 'player_name': 'S. Romero',...   \n",
       "\n",
       "                                                   4  \\\n",
       "0  {'player_id': 19599, 'player_name': 'E. Martín...   \n",
       "1  {'player_id': 138806, 'player_name': 'B. Willi...   \n",
       "\n",
       "                                                   5  \\\n",
       "0  {'player_id': 748, 'player_name': 'Dani Ceball...   \n",
       "1  {'player_id': 888, 'player_name': 'P. Jones', ...   \n",
       "\n",
       "                                                   6  \n",
       "0  {'player_id': 1463, 'player_name': 'J. Willock...  \n",
       "1  {'player_id': 894, 'player_name': 'A. Young', ...  "
      ]
     },
     "execution_count": 5,
     "metadata": {},
     "output_type": "execute_result"
    }
   ],
   "source": [
    "df2 = pd.json_normalize(df_lineups['substitutes'], sep='_')\n",
    "df2.head()"
   ]
  },
  {
   "cell_type": "code",
   "execution_count": 6,
   "metadata": {},
   "outputs": [
    {
     "data": {
      "text/html": [
       "<div>\n",
       "<style scoped>\n",
       "    .dataframe tbody tr th:only-of-type {\n",
       "        vertical-align: middle;\n",
       "    }\n",
       "\n",
       "    .dataframe tbody tr th {\n",
       "        vertical-align: top;\n",
       "    }\n",
       "\n",
       "    .dataframe thead th {\n",
       "        text-align: right;\n",
       "    }\n",
       "</style>\n",
       "<table border=\"1\" class=\"dataframe\">\n",
       "  <thead>\n",
       "    <tr style=\"text-align: right;\">\n",
       "      <th></th>\n",
       "      <th>0</th>\n",
       "      <th>1</th>\n",
       "      <th>2</th>\n",
       "      <th>3</th>\n",
       "      <th>4</th>\n",
       "      <th>5</th>\n",
       "      <th>6</th>\n",
       "      <th>7</th>\n",
       "      <th>8</th>\n",
       "      <th>9</th>\n",
       "      <th>10</th>\n",
       "    </tr>\n",
       "  </thead>\n",
       "  <tbody>\n",
       "    <tr>\n",
       "      <th>0</th>\n",
       "      <td>{'player_id': 1438, 'player_name': 'B. Leno', ...</td>\n",
       "      <td>{'player_id': 2283, 'player_name': 'David Luiz...</td>\n",
       "      <td>{'player_id': 1450, 'player_name': 'S. Papasta...</td>\n",
       "      <td>{'player_id': 1442, 'player_name': 'S. Kolašin...</td>\n",
       "      <td>{'player_id': 1458, 'player_name': 'M. Özil', ...</td>\n",
       "      <td>{'player_id': 1464, 'player_name': 'G. Xhaka',...</td>\n",
       "      <td>{'player_id': 1456, 'player_name': 'A. Maitlan...</td>\n",
       "      <td>{'player_id': 1462, 'player_name': 'L. Torreir...</td>\n",
       "      <td>{'player_id': 1465, 'player_name': 'P. Aubamey...</td>\n",
       "      <td>{'player_id': 1467, 'player_name': 'A. Lacazet...</td>\n",
       "      <td>{'player_id': 3246, 'player_name': 'N. Pépé', ...</td>\n",
       "    </tr>\n",
       "    <tr>\n",
       "      <th>1</th>\n",
       "      <td>{'player_id': 882, 'player_name': 'David de Ge...</td>\n",
       "      <td>{'player_id': 889, 'player_name': 'V. Lindelöf...</td>\n",
       "      <td>{'player_id': 2935, 'player_name': 'H. Maguire...</td>\n",
       "      <td>{'player_id': 891, 'player_name': 'L. Shaw', '...</td>\n",
       "      <td>{'player_id': 18846, 'player_name': 'A. Wan-Bi...</td>\n",
       "      <td>{'player_id': 902, 'player_name': 'N. Matić', ...</td>\n",
       "      <td>{'player_id': 905, 'player_name': 'Fred', 'pla...</td>\n",
       "      <td>{'player_id': 900, 'player_name': 'J. Lingard'...</td>\n",
       "      <td>{'player_id': 19329, 'player_name': 'D. James'...</td>\n",
       "      <td>{'player_id': 908, 'player_name': 'A. Martial'...</td>\n",
       "      <td>{'player_id': 909, 'player_name': 'M. Rashford...</td>\n",
       "    </tr>\n",
       "  </tbody>\n",
       "</table>\n",
       "</div>"
      ],
      "text/plain": [
       "                                                  0   \\\n",
       "0  {'player_id': 1438, 'player_name': 'B. Leno', ...   \n",
       "1  {'player_id': 882, 'player_name': 'David de Ge...   \n",
       "\n",
       "                                                  1   \\\n",
       "0  {'player_id': 2283, 'player_name': 'David Luiz...   \n",
       "1  {'player_id': 889, 'player_name': 'V. Lindelöf...   \n",
       "\n",
       "                                                  2   \\\n",
       "0  {'player_id': 1450, 'player_name': 'S. Papasta...   \n",
       "1  {'player_id': 2935, 'player_name': 'H. Maguire...   \n",
       "\n",
       "                                                  3   \\\n",
       "0  {'player_id': 1442, 'player_name': 'S. Kolašin...   \n",
       "1  {'player_id': 891, 'player_name': 'L. Shaw', '...   \n",
       "\n",
       "                                                  4   \\\n",
       "0  {'player_id': 1458, 'player_name': 'M. Özil', ...   \n",
       "1  {'player_id': 18846, 'player_name': 'A. Wan-Bi...   \n",
       "\n",
       "                                                  5   \\\n",
       "0  {'player_id': 1464, 'player_name': 'G. Xhaka',...   \n",
       "1  {'player_id': 902, 'player_name': 'N. Matić', ...   \n",
       "\n",
       "                                                  6   \\\n",
       "0  {'player_id': 1456, 'player_name': 'A. Maitlan...   \n",
       "1  {'player_id': 905, 'player_name': 'Fred', 'pla...   \n",
       "\n",
       "                                                  7   \\\n",
       "0  {'player_id': 1462, 'player_name': 'L. Torreir...   \n",
       "1  {'player_id': 900, 'player_name': 'J. Lingard'...   \n",
       "\n",
       "                                                  8   \\\n",
       "0  {'player_id': 1465, 'player_name': 'P. Aubamey...   \n",
       "1  {'player_id': 19329, 'player_name': 'D. James'...   \n",
       "\n",
       "                                                  9   \\\n",
       "0  {'player_id': 1467, 'player_name': 'A. Lacazet...   \n",
       "1  {'player_id': 908, 'player_name': 'A. Martial'...   \n",
       "\n",
       "                                                  10  \n",
       "0  {'player_id': 3246, 'player_name': 'N. Pépé', ...  \n",
       "1  {'player_id': 909, 'player_name': 'M. Rashford...  "
      ]
     },
     "execution_count": 6,
     "metadata": {},
     "output_type": "execute_result"
    }
   ],
   "source": [
    "df3 = pd.json_normalize(df_lineups['startXI'], sep='_')\n",
    "df3.head()"
   ]
  },
  {
   "cell_type": "code",
   "execution_count": null,
   "metadata": {},
   "outputs": [],
   "source": []
  }
 ],
 "metadata": {
  "kernelspec": {
   "display_name": "venv",
   "language": "python",
   "name": "python3"
  },
  "language_info": {
   "codemirror_mode": {
    "name": "ipython",
    "version": 3
   },
   "file_extension": ".py",
   "mimetype": "text/x-python",
   "name": "python",
   "nbconvert_exporter": "python",
   "pygments_lexer": "ipython3",
   "version": "3.11.7"
  }
 },
 "nbformat": 4,
 "nbformat_minor": 2
}
